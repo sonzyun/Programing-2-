{
 "cells": [
  {
   "cell_type": "markdown",
   "id": "7575eed9",
   "metadata": {},
   "source": [
    "### FOR문(반복문)"
   ]
  },
  {
   "cell_type": "code",
   "execution_count": 3,
   "id": "5177e7b1",
   "metadata": {},
   "outputs": [
    {
     "data": {
      "text/plain": [
       "[1, 2, 3, 4, 5]"
      ]
     },
     "execution_count": 3,
     "metadata": {},
     "output_type": "execute_result"
    }
   ],
   "source": [
    "list(range(1, 6))"
   ]
  },
  {
   "cell_type": "code",
   "execution_count": 12,
   "id": "bff69677",
   "metadata": {},
   "outputs": [
    {
     "name": "stdout",
     "output_type": "stream",
     "text": [
      "1\n",
      "4\n",
      "7\n",
      "10\n"
     ]
    }
   ],
   "source": [
    "for i in range(1, 11, 3) :\n",
    "    print(i)"
   ]
  },
  {
   "cell_type": "code",
   "execution_count": 13,
   "id": "3f11fbcf",
   "metadata": {},
   "outputs": [
    {
     "data": {
      "text/plain": [
       "[0, 1, 2, 3, 4, 5, 6, 7, 8, 9]"
      ]
     },
     "execution_count": 13,
     "metadata": {},
     "output_type": "execute_result"
    }
   ],
   "source": [
    "list(range(10))"
   ]
  },
  {
   "cell_type": "code",
   "execution_count": 17,
   "id": "365745d0",
   "metadata": {},
   "outputs": [
    {
     "name": "stdout",
     "output_type": "stream",
     "text": [
      "25\n"
     ]
    }
   ],
   "source": [
    "sum = 0\n",
    "for i in range(1, 11, 2) :\n",
    "    sum  += i # sum = sum + i\n",
    "print(sum)"
   ]
  },
  {
   "cell_type": "code",
   "execution_count": 21,
   "id": "8da7ed9d",
   "metadata": {},
   "outputs": [
    {
     "name": "stdout",
     "output_type": "stream",
     "text": [
      "홀합 2500\n",
      "짝합 2550\n"
     ]
    }
   ],
   "source": [
    "odd = 0\n",
    "even = 0\n",
    "for i in range(1, 101) :    \n",
    "    if i % 2 == 0 :\n",
    "        even += i\n",
    "    else :   \n",
    "        odd += i\n",
    "print('홀합', odd)\n",
    "print('짝합', even)"
   ]
  },
  {
   "cell_type": "code",
   "execution_count": 30,
   "id": "156d3465",
   "metadata": {},
   "outputs": [
    {
     "name": "stdout",
     "output_type": "stream",
     "text": [
      "--- 1 단 ---\n",
      "1 x 1 = 1\n",
      "1 x 2 = 2\n",
      "1 x 3 = 3\n",
      "1 x 4 = 4\n",
      "1 x 5 = 5\n",
      "1 x 6 = 6\n",
      "1 x 7 = 7\n",
      "1 x 8 = 8\n",
      "1 x 9 = 9\n",
      "\n",
      "\n",
      "--- 2 단 ---\n",
      "2 x 1 = 2\n",
      "2 x 2 = 4\n",
      "2 x 3 = 6\n",
      "2 x 4 = 8\n",
      "2 x 5 = 10\n",
      "2 x 6 = 12\n",
      "2 x 7 = 14\n",
      "2 x 8 = 16\n",
      "2 x 9 = 18\n",
      "\n",
      "\n",
      "--- 3 단 ---\n",
      "3 x 1 = 3\n",
      "3 x 2 = 6\n",
      "3 x 3 = 9\n",
      "3 x 4 = 12\n",
      "3 x 5 = 15\n",
      "3 x 6 = 18\n",
      "3 x 7 = 21\n",
      "3 x 8 = 24\n",
      "3 x 9 = 27\n",
      "\n",
      "\n",
      "--- 4 단 ---\n",
      "4 x 1 = 4\n",
      "4 x 2 = 8\n",
      "4 x 3 = 12\n",
      "4 x 4 = 16\n",
      "4 x 5 = 20\n",
      "4 x 6 = 24\n",
      "4 x 7 = 28\n",
      "4 x 8 = 32\n",
      "4 x 9 = 36\n",
      "\n",
      "\n",
      "--- 5 단 ---\n",
      "5 x 1 = 5\n",
      "5 x 2 = 10\n",
      "5 x 3 = 15\n",
      "5 x 4 = 20\n",
      "5 x 5 = 25\n",
      "5 x 6 = 30\n",
      "5 x 7 = 35\n",
      "5 x 8 = 40\n",
      "5 x 9 = 45\n",
      "\n",
      "\n",
      "--- 6 단 ---\n",
      "6 x 1 = 6\n",
      "6 x 2 = 12\n",
      "6 x 3 = 18\n",
      "6 x 4 = 24\n",
      "6 x 5 = 30\n",
      "6 x 6 = 36\n",
      "6 x 7 = 42\n",
      "6 x 8 = 48\n",
      "6 x 9 = 54\n",
      "\n",
      "\n",
      "--- 7 단 ---\n",
      "7 x 1 = 7\n",
      "7 x 2 = 14\n",
      "7 x 3 = 21\n",
      "7 x 4 = 28\n",
      "7 x 5 = 35\n",
      "7 x 6 = 42\n",
      "7 x 7 = 49\n",
      "7 x 8 = 56\n",
      "7 x 9 = 63\n",
      "\n",
      "\n",
      "--- 8 단 ---\n",
      "8 x 1 = 8\n",
      "8 x 2 = 16\n",
      "8 x 3 = 24\n",
      "8 x 4 = 32\n",
      "8 x 5 = 40\n",
      "8 x 6 = 48\n",
      "8 x 7 = 56\n",
      "8 x 8 = 64\n",
      "8 x 9 = 72\n",
      "\n",
      "\n",
      "--- 9 단 ---\n",
      "9 x 1 = 9\n",
      "9 x 2 = 18\n",
      "9 x 3 = 27\n",
      "9 x 4 = 36\n",
      "9 x 5 = 45\n",
      "9 x 6 = 54\n",
      "9 x 7 = 63\n",
      "9 x 8 = 72\n",
      "9 x 9 = 81\n",
      "\n",
      "\n"
     ]
    }
   ],
   "source": [
    "for i in range(1, 10) :\n",
    "    print('''---''', i, \"단\", '''---''')\n",
    "    for j in range(1, 10) :\n",
    "        print(i, \"x\", j, \"=\", i*j)\n",
    "    print(\"\\n\")\n",
    "    "
   ]
  },
  {
   "cell_type": "code",
   "execution_count": 31,
   "id": "6ea3cd9f",
   "metadata": {},
   "outputs": [
    {
     "name": "stdout",
     "output_type": "stream",
     "text": [
      "A\n",
      "B\n",
      "C\n"
     ]
    }
   ],
   "source": [
    "for i in ['A', 'B', 'C'] :\n",
    "    print(i)"
   ]
  },
  {
   "cell_type": "code",
   "execution_count": 35,
   "id": "9c258bdf",
   "metadata": {},
   "outputs": [],
   "source": [
    "list1 = [\"A\", \"B\", \"C\", \"D\", \"E\"]"
   ]
  },
  {
   "cell_type": "code",
   "execution_count": 36,
   "id": "6e424e16",
   "metadata": {},
   "outputs": [
    {
     "name": "stdout",
     "output_type": "stream",
     "text": [
      "A\n",
      "B\n",
      "C\n",
      "D\n",
      "E\n"
     ]
    }
   ],
   "source": [
    "for i in list1 :\n",
    "    print(i)"
   ]
  },
  {
   "cell_type": "code",
   "execution_count": 95,
   "id": "84fdfe6b",
   "metadata": {},
   "outputs": [],
   "source": [
    "score = range(10, 100, 10)"
   ]
  },
  {
   "cell_type": "code",
   "execution_count": 96,
   "id": "29cb0a0f",
   "metadata": {},
   "outputs": [],
   "source": [
    "passs = 0\n",
    "fail = 0"
   ]
  },
  {
   "cell_type": "code",
   "execution_count": 97,
   "id": "71556888",
   "metadata": {},
   "outputs": [
    {
     "name": "stdout",
     "output_type": "stream",
     "text": [
      "불합격\n",
      "불합격\n",
      "불합격\n",
      "불합격\n",
      "불합격\n",
      "불합격\n",
      "합격\n",
      "합격\n",
      "합격\n",
      "합격자 수 : 3\n",
      "응시자 수 : 9\n",
      "합격률 : 33.33 %\n"
     ]
    }
   ],
   "source": [
    "for i in score :\n",
    "    if i >= 70 :\n",
    "        print(\"합격\")\n",
    "        passs += 1\n",
    "    else :\n",
    "        print(\"불합격\")\n",
    "        fail += 1\n",
    "\n",
    "print(\"합격자 수 :\", passs)\n",
    "print(\"응시자 수 :\", (passs + fail))\n",
    "rate = passs / (passs + fail) * 100\n",
    "print(\"합격률 :\", round(rate, 2), \"%\")"
   ]
  },
  {
   "cell_type": "code",
   "execution_count": 98,
   "id": "72469a8a",
   "metadata": {},
   "outputs": [
    {
     "name": "stdout",
     "output_type": "stream",
     "text": [
      "1\n",
      "2\n",
      "3\n",
      "4\n",
      "5\n",
      "6\n"
     ]
    }
   ],
   "source": [
    "for i in \"123456\" :\n",
    "    print(i)"
   ]
  }
 ],
 "metadata": {
  "kernelspec": {
   "display_name": "basic",
   "language": "python",
   "name": "python3"
  },
  "language_info": {
   "codemirror_mode": {
    "name": "ipython",
    "version": 3
   },
   "file_extension": ".py",
   "mimetype": "text/x-python",
   "name": "python",
   "nbconvert_exporter": "python",
   "pygments_lexer": "ipython3",
   "version": "3.11.13"
  }
 },
 "nbformat": 4,
 "nbformat_minor": 5
}
